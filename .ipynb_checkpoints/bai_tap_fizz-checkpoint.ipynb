{
 "cells": [
  {
   "cell_type": "code",
   "execution_count": 7,
   "id": "583db5c1",
   "metadata": {},
   "outputs": [
    {
     "name": "stdout",
     "output_type": "stream",
     "text": [
      "Nhập vào 2 số bất kỳ:1 15\n",
      "12Fizz4BuzzFizz78FizzBuzz11Fizz1314Fizz"
     ]
    }
   ],
   "source": [
    "#Bài tập vòng lặp for: FIZZ BUZZ\n",
    "n = input(\"Nhập vào 2 số bất kỳ:\").split(\" \")\n",
    "n1 = int(n[0])\n",
    "n2 = int(n[1])\n",
    "for i in range(n1, n2+1):\n",
    "    hienthi = \"\"\n",
    "    if i%3 == 0:\n",
    "        hienthi += \"Fizz\"\n",
    "    elif i%5 == 0:\n",
    "        hienthi += \"Buzz\"\n",
    "    else:\n",
    "        hienthi += str(i)\n",
    "    print(hienthi, end = \"\")"
   ]
  },
  {
   "cell_type": "code",
   "execution_count": null,
   "id": "2d5e00cc",
   "metadata": {},
   "outputs": [],
   "source": []
  }
 ],
 "metadata": {
  "kernelspec": {
   "display_name": "Python 3",
   "language": "python",
   "name": "python3"
  },
  "language_info": {
   "codemirror_mode": {
    "name": "ipython",
    "version": 3
   },
   "file_extension": ".py",
   "mimetype": "text/x-python",
   "name": "python",
   "nbconvert_exporter": "python",
   "pygments_lexer": "ipython3",
   "version": "3.8.8"
  }
 },
 "nbformat": 4,
 "nbformat_minor": 5
}

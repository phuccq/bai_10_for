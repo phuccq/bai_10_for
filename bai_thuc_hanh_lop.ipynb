{
 "cells": [
  {
   "cell_type": "code",
   "execution_count": 2,
   "id": "4ac00a3f",
   "metadata": {},
   "outputs": [
    {
     "name": "stdout",
     "output_type": "stream",
     "text": [
      "Nhập số a:SĐS\n",
      "phải nhập vào số\n",
      "Nhập số a:1\n",
      "Nhập số b:6\n",
      "Tích của các số chẵn từ 1 đến 6 là 48\n",
      "Tổng của các số lẻ từ 1 đến 6 là 9\n"
     ]
    }
   ],
   "source": [
    "# 1. Nhập vào hai số nguyên dương a và b (a <= b). Tìm tổng của tất cả các số lẻ và tích của tất cả các số chẵn nằm giữa hai số đó (kể cả 2 số đó).\n",
    "\n",
    "while True:\n",
    "    try:\n",
    "        a = int(input(\"Nhập số a:\"))\n",
    "        b = int(input(\"Nhập số b:\"))\n",
    "        if a<b:            \n",
    "            break\n",
    "        else:\n",
    "            print(\"a phải nhỏ hơn b. Nhập lại!\")\n",
    "    except:\n",
    "        print(\"phải nhập vào số\")\n",
    "tong = 0\n",
    "tich = 1\n",
    "a1 = a\n",
    "for i in range(a,b+1):\n",
    "    if a%2 == 0:\n",
    "        tich *=a\n",
    "    else:\n",
    "        tong +=a\n",
    "    a +=1\n",
    "print(f\"Tích của các số chẵn từ {a1} đến {b} là {tich}\")\n",
    "print(f\"Tổng của các số lẻ từ {a1} đến {b} là {tong}\")\n"
   ]
  },
  {
   "cell_type": "code",
   "execution_count": 17,
   "id": "89251510",
   "metadata": {},
   "outputs": [
    {
     "name": "stdout",
     "output_type": "stream",
     "text": [
      "3 là số nguyên tố\n",
      "4 không phải là số nguyên tố\n",
      "5 là số nguyên tố\n",
      "6 không phải là số nguyên tố\n",
      "7 là số nguyên tố\n",
      "8 không phải là số nguyên tố\n",
      "9 là số nguyên tố\n",
      "10 không phải là số nguyên tố\n"
     ]
    }
   ],
   "source": [
    "#2. Tìm ra số nguyên tố trong khoảng 1 đến 10\n",
    "\n",
    "for i in range(1,11):\n",
    "    for j in range(2,i):\n",
    "        if i%j==0:\n",
    "            print(f\"{i} không phải là số nguyên tố\")\n",
    "            break\n",
    "        else:\n",
    "            print(f\"{i} là số nguyên tố\")\n",
    "            break"
   ]
  },
  {
   "cell_type": "code",
   "execution_count": 23,
   "id": "3bf3b140",
   "metadata": {},
   "outputs": [
    {
     "name": "stdout",
     "output_type": "stream",
     "text": [
      "2.2\n",
      "2\n"
     ]
    }
   ],
   "source": [
    "print(11/5)\n",
    "print(11//5)"
   ]
  },
  {
   "cell_type": "code",
   "execution_count": null,
   "id": "d6fb52bf",
   "metadata": {},
   "outputs": [],
   "source": []
  }
 ],
 "metadata": {
  "kernelspec": {
   "display_name": "Python 3",
   "language": "python",
   "name": "python3"
  },
  "language_info": {
   "codemirror_mode": {
    "name": "ipython",
    "version": 3
   },
   "file_extension": ".py",
   "mimetype": "text/x-python",
   "name": "python",
   "nbconvert_exporter": "python",
   "pygments_lexer": "ipython3",
   "version": "3.8.8"
  }
 },
 "nbformat": 4,
 "nbformat_minor": 5
}

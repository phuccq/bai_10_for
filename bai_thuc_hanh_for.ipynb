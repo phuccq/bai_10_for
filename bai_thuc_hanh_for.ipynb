{
 "cells": [
  {
   "cell_type": "code",
   "execution_count": 21,
   "id": "60ef1c9b",
   "metadata": {},
   "outputs": [
    {
     "name": "stdout",
     "output_type": "stream",
     "text": [
      "Nhập chiều ngang:10\n",
      "Nhập chiều doc:5\n",
      "Nhập ký tự:*\n",
      "**********\n",
      "*        *\n",
      "*        *\n",
      "*        *\n",
      "**********\n"
     ]
    }
   ],
   "source": [
    "cot = int(input(\"Nhập chiều ngang:\"))\n",
    "dong = int(input(\"Nhập chiều doc:\"))\n",
    "kytu = input(\"Nhập ký tự để vẽ:\")\n",
    "for i in range(1,dong+1):\n",
    "    hienthi = \"\"\n",
    "    for j in range(1,cot+1):\n",
    "        if i == 1 or i == dong:\n",
    "            hienthi += kytu\n",
    "        else:\n",
    "            if j == 1 or j == cot:\n",
    "                hienthi += kytu\n",
    "            else:\n",
    "                hienthi += \" \"\n",
    "    print(hienthi)\n",
    "\n"
   ]
  },
  {
   "cell_type": "code",
   "execution_count": null,
   "id": "24532d7b",
   "metadata": {},
   "outputs": [],
   "source": []
  }
 ],
 "metadata": {
  "kernelspec": {
   "display_name": "Python 3",
   "language": "python",
   "name": "python3"
  },
  "language_info": {
   "codemirror_mode": {
    "name": "ipython",
    "version": 3
   },
   "file_extension": ".py",
   "mimetype": "text/x-python",
   "name": "python",
   "nbconvert_exporter": "python",
   "pygments_lexer": "ipython3",
   "version": "3.8.8"
  }
 },
 "nbformat": 4,
 "nbformat_minor": 5
}
